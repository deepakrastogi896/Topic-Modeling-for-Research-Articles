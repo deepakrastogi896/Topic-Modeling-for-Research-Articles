{
 "cells": [
  {
   "cell_type": "code",
   "execution_count": 1,
   "metadata": {
    "execution": {
     "iopub.execute_input": "2020-08-17T07:19:08.674797Z",
     "iopub.status.busy": "2020-08-17T07:19:08.674050Z",
     "iopub.status.idle": "2020-08-17T07:19:20.407668Z",
     "shell.execute_reply": "2020-08-17T07:19:20.406965Z"
    },
    "papermill": {
     "duration": 11.77369,
     "end_time": "2020-08-17T07:19:20.407818",
     "exception": false,
     "start_time": "2020-08-17T07:19:08.634128",
     "status": "completed"
    },
    "tags": []
   },
   "outputs": [
    {
     "name": "stdout",
     "output_type": "stream",
     "text": [
      "Collecting transformers==3.0.2\r\n",
      "  Downloading transformers-3.0.2-py3-none-any.whl (769 kB)\r\n",
      "\u001b[K     |████████████████████████████████| 769 kB 1.4 MB/s \r\n",
      "\u001b[?25hCollecting tokenizers==0.8.1.rc1\r\n",
      "  Downloading tokenizers-0.8.1rc1-cp37-cp37m-manylinux1_x86_64.whl (3.0 MB)\r\n",
      "\u001b[K     |████████████████████████████████| 3.0 MB 5.8 MB/s \r\n",
      "\u001b[?25hRequirement already satisfied: sentencepiece!=0.1.92 in /opt/conda/lib/python3.7/site-packages (from transformers==3.0.2) (0.1.91)\r\n",
      "Requirement already satisfied: filelock in /opt/conda/lib/python3.7/site-packages (from transformers==3.0.2) (3.0.10)\r\n",
      "Requirement already satisfied: requests in /opt/conda/lib/python3.7/site-packages (from transformers==3.0.2) (2.23.0)\r\n",
      "Requirement already satisfied: numpy in /opt/conda/lib/python3.7/site-packages (from transformers==3.0.2) (1.18.5)\r\n",
      "Requirement already satisfied: tqdm>=4.27 in /opt/conda/lib/python3.7/site-packages (from transformers==3.0.2) (4.45.0)\r\n",
      "Requirement already satisfied: sacremoses in /opt/conda/lib/python3.7/site-packages (from transformers==3.0.2) (0.0.43)\r\n",
      "Requirement already satisfied: regex!=2019.12.17 in /opt/conda/lib/python3.7/site-packages (from transformers==3.0.2) (2020.4.4)\r\n",
      "Requirement already satisfied: packaging in /opt/conda/lib/python3.7/site-packages (from transformers==3.0.2) (20.1)\r\n",
      "Requirement already satisfied: urllib3!=1.25.0,!=1.25.1,<1.26,>=1.21.1 in /opt/conda/lib/python3.7/site-packages (from requests->transformers==3.0.2) (1.24.3)\r\n",
      "Requirement already satisfied: idna<3,>=2.5 in /opt/conda/lib/python3.7/site-packages (from requests->transformers==3.0.2) (2.9)\r\n",
      "Requirement already satisfied: chardet<4,>=3.0.2 in /opt/conda/lib/python3.7/site-packages (from requests->transformers==3.0.2) (3.0.4)\r\n",
      "Requirement already satisfied: certifi>=2017.4.17 in /opt/conda/lib/python3.7/site-packages (from requests->transformers==3.0.2) (2020.6.20)\r\n",
      "Requirement already satisfied: joblib in /opt/conda/lib/python3.7/site-packages (from sacremoses->transformers==3.0.2) (0.14.1)\r\n",
      "Requirement already satisfied: click in /opt/conda/lib/python3.7/site-packages (from sacremoses->transformers==3.0.2) (7.1.1)\r\n",
      "Requirement already satisfied: six in /opt/conda/lib/python3.7/site-packages (from sacremoses->transformers==3.0.2) (1.14.0)\r\n",
      "Requirement already satisfied: pyparsing>=2.0.2 in /opt/conda/lib/python3.7/site-packages (from packaging->transformers==3.0.2) (2.4.7)\r\n",
      "\u001b[31mERROR: allennlp 1.0.0 has requirement transformers<2.12,>=2.9, but you'll have transformers 3.0.2 which is incompatible.\u001b[0m\r\n",
      "Installing collected packages: tokenizers, transformers\r\n",
      "  Attempting uninstall: tokenizers\r\n",
      "    Found existing installation: tokenizers 0.7.0\r\n",
      "    Uninstalling tokenizers-0.7.0:\r\n",
      "      Successfully uninstalled tokenizers-0.7.0\r\n",
      "  Attempting uninstall: transformers\r\n",
      "    Found existing installation: transformers 2.11.0\r\n",
      "    Uninstalling transformers-2.11.0:\r\n",
      "      Successfully uninstalled transformers-2.11.0\r\n",
      "Successfully installed tokenizers-0.8.1rc1 transformers-3.0.2\r\n",
      "\u001b[33mWARNING: You are using pip version 20.1.1; however, version 20.2.2 is available.\r\n",
      "You should consider upgrading via the '/opt/conda/bin/python3.7 -m pip install --upgrade pip' command.\u001b[0m\r\n"
     ]
    }
   ],
   "source": [
    "!pip install transformers==3.0.2"
   ]
  },
  {
   "cell_type": "code",
   "execution_count": 2,
   "metadata": {
    "_cell_guid": "b1076dfc-b9ad-4769-8c92-a6c4dae69d19",
    "_uuid": "8f2839f25d086af736a60e9eeb907d3b93b6e0e5",
    "execution": {
     "iopub.execute_input": "2020-08-17T07:19:20.508053Z",
     "iopub.status.busy": "2020-08-17T07:19:20.507291Z",
     "iopub.status.idle": "2020-08-17T07:19:20.518676Z",
     "shell.execute_reply": "2020-08-17T07:19:20.517734Z"
    },
    "papermill": {
     "duration": 0.065076,
     "end_time": "2020-08-17T07:19:20.518840",
     "exception": false,
     "start_time": "2020-08-17T07:19:20.453764",
     "status": "completed"
    },
    "tags": []
   },
   "outputs": [
    {
     "name": "stdout",
     "output_type": "stream",
     "text": [
      "/kaggle/input/janatahack-independence-day-2020-ml-hackathon/test.csv\n",
      "/kaggle/input/janatahack-independence-day-2020-ml-hackathon/train.csv\n",
      "/kaggle/input/janatahack-independence-day-2020-ml-hackathon/sample_submission_UVKGLZE.csv\n",
      "/kaggle/input/janatahack/test.csv\n",
      "/kaggle/input/janatahack/sample_submission.csv\n",
      "/kaggle/input/janatahack/train.csv\n"
     ]
    }
   ],
   "source": [
    "# This Python 3 environment comes with many helpful analytics libraries installed\n",
    "# It is defined by the kaggle/python Docker image: https://github.com/kaggle/docker-python\n",
    "# For example, here's several helpful packages to load\n",
    "\n",
    "import gc\n",
    "import numpy as np # linear algebra\n",
    "import pandas as pd # data processing, CSV file I/O (e.g. pd.read_csv)\n",
    "\n",
    "# Input data files are available in the read-only \"../input/\" directory\n",
    "# For example, running this (by clicking run or pressing Shift+Enter) will list all files under the input directory\n",
    "\n",
    "import os\n",
    "for dirname, _, filenames in os.walk('/kaggle/input'):\n",
    "    for filename in filenames:\n",
    "        print(os.path.join(dirname, filename))\n",
    "\n",
    "# You can write up to 5GB to the current directory (/kaggle/working/) that gets preserved as output when you create a version using \"Save & Run All\" \n",
    "# You can also write temporary files to /kaggle/temp/, but they won't be saved outside of the current session"
   ]
  },
  {
   "cell_type": "code",
   "execution_count": 3,
   "metadata": {
    "execution": {
     "iopub.execute_input": "2020-08-17T07:19:20.618398Z",
     "iopub.status.busy": "2020-08-17T07:19:20.617649Z",
     "iopub.status.idle": "2020-08-17T07:19:20.902456Z",
     "shell.execute_reply": "2020-08-17T07:19:20.901840Z"
    },
    "papermill": {
     "duration": 0.33626,
     "end_time": "2020-08-17T07:19:20.902593",
     "exception": false,
     "start_time": "2020-08-17T07:19:20.566333",
     "status": "completed"
    },
    "tags": []
   },
   "outputs": [
    {
     "data": {
      "text/html": [
       "<div>\n",
       "<style scoped>\n",
       "    .dataframe tbody tr th:only-of-type {\n",
       "        vertical-align: middle;\n",
       "    }\n",
       "\n",
       "    .dataframe tbody tr th {\n",
       "        vertical-align: top;\n",
       "    }\n",
       "\n",
       "    .dataframe thead th {\n",
       "        text-align: right;\n",
       "    }\n",
       "</style>\n",
       "<table border=\"1\" class=\"dataframe\">\n",
       "  <thead>\n",
       "    <tr style=\"text-align: right;\">\n",
       "      <th></th>\n",
       "      <th>ID</th>\n",
       "      <th>TITLE</th>\n",
       "      <th>ABSTRACT</th>\n",
       "      <th>Computer Science</th>\n",
       "      <th>Physics</th>\n",
       "      <th>Mathematics</th>\n",
       "      <th>Statistics</th>\n",
       "      <th>Quantitative Biology</th>\n",
       "      <th>Quantitative Finance</th>\n",
       "    </tr>\n",
       "  </thead>\n",
       "  <tbody>\n",
       "    <tr>\n",
       "      <th>0</th>\n",
       "      <td>1</td>\n",
       "      <td>Reconstructing Subject-Specific Effect Maps</td>\n",
       "      <td>Predictive models allow subject-specific inf...</td>\n",
       "      <td>1</td>\n",
       "      <td>0</td>\n",
       "      <td>0</td>\n",
       "      <td>0</td>\n",
       "      <td>0</td>\n",
       "      <td>0</td>\n",
       "    </tr>\n",
       "    <tr>\n",
       "      <th>1</th>\n",
       "      <td>2</td>\n",
       "      <td>Rotation Invariance Neural Network</td>\n",
       "      <td>Rotation invariance and translation invarian...</td>\n",
       "      <td>1</td>\n",
       "      <td>0</td>\n",
       "      <td>0</td>\n",
       "      <td>0</td>\n",
       "      <td>0</td>\n",
       "      <td>0</td>\n",
       "    </tr>\n",
       "    <tr>\n",
       "      <th>2</th>\n",
       "      <td>3</td>\n",
       "      <td>Spherical polyharmonics and Poisson kernels fo...</td>\n",
       "      <td>We introduce and develop the notion of spher...</td>\n",
       "      <td>0</td>\n",
       "      <td>0</td>\n",
       "      <td>1</td>\n",
       "      <td>0</td>\n",
       "      <td>0</td>\n",
       "      <td>0</td>\n",
       "    </tr>\n",
       "    <tr>\n",
       "      <th>3</th>\n",
       "      <td>4</td>\n",
       "      <td>A finite element approximation for the stochas...</td>\n",
       "      <td>The stochastic Landau--Lifshitz--Gilbert (LL...</td>\n",
       "      <td>0</td>\n",
       "      <td>0</td>\n",
       "      <td>1</td>\n",
       "      <td>0</td>\n",
       "      <td>0</td>\n",
       "      <td>0</td>\n",
       "    </tr>\n",
       "    <tr>\n",
       "      <th>4</th>\n",
       "      <td>5</td>\n",
       "      <td>Comparative study of Discrete Wavelet Transfor...</td>\n",
       "      <td>Fourier-transform infra-red (FTIR) spectra o...</td>\n",
       "      <td>1</td>\n",
       "      <td>0</td>\n",
       "      <td>0</td>\n",
       "      <td>1</td>\n",
       "      <td>0</td>\n",
       "      <td>0</td>\n",
       "    </tr>\n",
       "  </tbody>\n",
       "</table>\n",
       "</div>"
      ],
      "text/plain": [
       "   ID                                              TITLE  \\\n",
       "0   1        Reconstructing Subject-Specific Effect Maps   \n",
       "1   2                 Rotation Invariance Neural Network   \n",
       "2   3  Spherical polyharmonics and Poisson kernels fo...   \n",
       "3   4  A finite element approximation for the stochas...   \n",
       "4   5  Comparative study of Discrete Wavelet Transfor...   \n",
       "\n",
       "                                            ABSTRACT  Computer Science  \\\n",
       "0    Predictive models allow subject-specific inf...                 1   \n",
       "1    Rotation invariance and translation invarian...                 1   \n",
       "2    We introduce and develop the notion of spher...                 0   \n",
       "3    The stochastic Landau--Lifshitz--Gilbert (LL...                 0   \n",
       "4    Fourier-transform infra-red (FTIR) spectra o...                 1   \n",
       "\n",
       "   Physics  Mathematics  Statistics  Quantitative Biology  \\\n",
       "0        0            0           0                     0   \n",
       "1        0            0           0                     0   \n",
       "2        0            1           0                     0   \n",
       "3        0            1           0                     0   \n",
       "4        0            0           1                     0   \n",
       "\n",
       "   Quantitative Finance  \n",
       "0                     0  \n",
       "1                     0  \n",
       "2                     0  \n",
       "3                     0  \n",
       "4                     0  "
      ]
     },
     "execution_count": 3,
     "metadata": {},
     "output_type": "execute_result"
    }
   ],
   "source": [
    "train = pd.read_csv(\"/kaggle/input/janatahack-independence-day-2020-ml-hackathon/train.csv\")\n",
    "train.head()"
   ]
  },
  {
   "cell_type": "code",
   "execution_count": 4,
   "metadata": {
    "execution": {
     "iopub.execute_input": "2020-08-17T07:19:21.001302Z",
     "iopub.status.busy": "2020-08-17T07:19:21.000548Z",
     "iopub.status.idle": "2020-08-17T07:19:21.115683Z",
     "shell.execute_reply": "2020-08-17T07:19:21.114989Z"
    },
    "papermill": {
     "duration": 0.167448,
     "end_time": "2020-08-17T07:19:21.115809",
     "exception": false,
     "start_time": "2020-08-17T07:19:20.948361",
     "status": "completed"
    },
    "tags": []
   },
   "outputs": [
    {
     "data": {
      "text/html": [
       "<div>\n",
       "<style scoped>\n",
       "    .dataframe tbody tr th:only-of-type {\n",
       "        vertical-align: middle;\n",
       "    }\n",
       "\n",
       "    .dataframe tbody tr th {\n",
       "        vertical-align: top;\n",
       "    }\n",
       "\n",
       "    .dataframe thead th {\n",
       "        text-align: right;\n",
       "    }\n",
       "</style>\n",
       "<table border=\"1\" class=\"dataframe\">\n",
       "  <thead>\n",
       "    <tr style=\"text-align: right;\">\n",
       "      <th></th>\n",
       "      <th>ID</th>\n",
       "      <th>TITLE</th>\n",
       "      <th>ABSTRACT</th>\n",
       "    </tr>\n",
       "  </thead>\n",
       "  <tbody>\n",
       "    <tr>\n",
       "      <th>0</th>\n",
       "      <td>20973</td>\n",
       "      <td>Closed-form Marginal Likelihood in Gamma-Poiss...</td>\n",
       "      <td>We present novel understandings of the Gamma...</td>\n",
       "    </tr>\n",
       "    <tr>\n",
       "      <th>1</th>\n",
       "      <td>20974</td>\n",
       "      <td>Laboratory mid-IR spectra of equilibrated and ...</td>\n",
       "      <td>Meteorites contain minerals from Solar Syste...</td>\n",
       "    </tr>\n",
       "    <tr>\n",
       "      <th>2</th>\n",
       "      <td>20975</td>\n",
       "      <td>Case For Static AMSDU Aggregation in WLANs</td>\n",
       "      <td>Frame aggregation is a mechanism by which mu...</td>\n",
       "    </tr>\n",
       "    <tr>\n",
       "      <th>3</th>\n",
       "      <td>20976</td>\n",
       "      <td>The $Gaia$-ESO Survey: the inner disk intermed...</td>\n",
       "      <td>Milky Way open clusters are very diverse in ...</td>\n",
       "    </tr>\n",
       "    <tr>\n",
       "      <th>4</th>\n",
       "      <td>20977</td>\n",
       "      <td>Witness-Functions versus Interpretation-Functi...</td>\n",
       "      <td>Proving that a cryptographic protocol is cor...</td>\n",
       "    </tr>\n",
       "  </tbody>\n",
       "</table>\n",
       "</div>"
      ],
      "text/plain": [
       "      ID                                              TITLE  \\\n",
       "0  20973  Closed-form Marginal Likelihood in Gamma-Poiss...   \n",
       "1  20974  Laboratory mid-IR spectra of equilibrated and ...   \n",
       "2  20975         Case For Static AMSDU Aggregation in WLANs   \n",
       "3  20976  The $Gaia$-ESO Survey: the inner disk intermed...   \n",
       "4  20977  Witness-Functions versus Interpretation-Functi...   \n",
       "\n",
       "                                            ABSTRACT  \n",
       "0    We present novel understandings of the Gamma...  \n",
       "1    Meteorites contain minerals from Solar Syste...  \n",
       "2    Frame aggregation is a mechanism by which mu...  \n",
       "3    Milky Way open clusters are very diverse in ...  \n",
       "4    Proving that a cryptographic protocol is cor...  "
      ]
     },
     "execution_count": 4,
     "metadata": {},
     "output_type": "execute_result"
    }
   ],
   "source": [
    "test = pd.read_csv(\"/kaggle/input/janatahack-independence-day-2020-ml-hackathon/test.csv\")\n",
    "test.head()"
   ]
  },
  {
   "cell_type": "code",
   "execution_count": 5,
   "metadata": {
    "execution": {
     "iopub.execute_input": "2020-08-17T07:19:21.215751Z",
     "iopub.status.busy": "2020-08-17T07:19:21.215004Z",
     "iopub.status.idle": "2020-08-17T07:19:21.236451Z",
     "shell.execute_reply": "2020-08-17T07:19:21.237023Z"
    },
    "papermill": {
     "duration": 0.074463,
     "end_time": "2020-08-17T07:19:21.237185",
     "exception": false,
     "start_time": "2020-08-17T07:19:21.162722",
     "status": "completed"
    },
    "tags": []
   },
   "outputs": [
    {
     "data": {
      "text/html": [
       "<div>\n",
       "<style scoped>\n",
       "    .dataframe tbody tr th:only-of-type {\n",
       "        vertical-align: middle;\n",
       "    }\n",
       "\n",
       "    .dataframe tbody tr th {\n",
       "        vertical-align: top;\n",
       "    }\n",
       "\n",
       "    .dataframe thead th {\n",
       "        text-align: right;\n",
       "    }\n",
       "</style>\n",
       "<table border=\"1\" class=\"dataframe\">\n",
       "  <thead>\n",
       "    <tr style=\"text-align: right;\">\n",
       "      <th></th>\n",
       "      <th>ID</th>\n",
       "      <th>Computer Science</th>\n",
       "      <th>Physics</th>\n",
       "      <th>Mathematics</th>\n",
       "      <th>Statistics</th>\n",
       "      <th>Quantitative Biology</th>\n",
       "      <th>Quantitative Finance</th>\n",
       "    </tr>\n",
       "  </thead>\n",
       "  <tbody>\n",
       "    <tr>\n",
       "      <th>0</th>\n",
       "      <td>20973</td>\n",
       "      <td>0</td>\n",
       "      <td>0</td>\n",
       "      <td>0</td>\n",
       "      <td>0</td>\n",
       "      <td>0</td>\n",
       "      <td>0</td>\n",
       "    </tr>\n",
       "    <tr>\n",
       "      <th>1</th>\n",
       "      <td>20974</td>\n",
       "      <td>0</td>\n",
       "      <td>0</td>\n",
       "      <td>0</td>\n",
       "      <td>0</td>\n",
       "      <td>0</td>\n",
       "      <td>0</td>\n",
       "    </tr>\n",
       "    <tr>\n",
       "      <th>2</th>\n",
       "      <td>20975</td>\n",
       "      <td>0</td>\n",
       "      <td>0</td>\n",
       "      <td>0</td>\n",
       "      <td>0</td>\n",
       "      <td>0</td>\n",
       "      <td>0</td>\n",
       "    </tr>\n",
       "    <tr>\n",
       "      <th>3</th>\n",
       "      <td>20976</td>\n",
       "      <td>0</td>\n",
       "      <td>0</td>\n",
       "      <td>0</td>\n",
       "      <td>0</td>\n",
       "      <td>0</td>\n",
       "      <td>0</td>\n",
       "    </tr>\n",
       "    <tr>\n",
       "      <th>4</th>\n",
       "      <td>20977</td>\n",
       "      <td>0</td>\n",
       "      <td>0</td>\n",
       "      <td>0</td>\n",
       "      <td>0</td>\n",
       "      <td>0</td>\n",
       "      <td>0</td>\n",
       "    </tr>\n",
       "  </tbody>\n",
       "</table>\n",
       "</div>"
      ],
      "text/plain": [
       "      ID  Computer Science  Physics  Mathematics  Statistics  \\\n",
       "0  20973                 0        0            0           0   \n",
       "1  20974                 0        0            0           0   \n",
       "2  20975                 0        0            0           0   \n",
       "3  20976                 0        0            0           0   \n",
       "4  20977                 0        0            0           0   \n",
       "\n",
       "   Quantitative Biology  Quantitative Finance  \n",
       "0                     0                     0  \n",
       "1                     0                     0  \n",
       "2                     0                     0  \n",
       "3                     0                     0  \n",
       "4                     0                     0  "
      ]
     },
     "execution_count": 5,
     "metadata": {},
     "output_type": "execute_result"
    }
   ],
   "source": [
    "sample = pd.read_csv(\"/kaggle/input/janatahack-independence-day-2020-ml-hackathon/sample_submission_UVKGLZE.csv\")\n",
    "sample.head()"
   ]
  },
  {
   "cell_type": "code",
   "execution_count": 6,
   "metadata": {
    "execution": {
     "iopub.execute_input": "2020-08-17T07:19:21.346271Z",
     "iopub.status.busy": "2020-08-17T07:19:21.345237Z",
     "iopub.status.idle": "2020-08-17T07:19:21.348508Z",
     "shell.execute_reply": "2020-08-17T07:19:21.347880Z"
    },
    "papermill": {
     "duration": 0.064069,
     "end_time": "2020-08-17T07:19:21.348634",
     "exception": false,
     "start_time": "2020-08-17T07:19:21.284565",
     "status": "completed"
    },
    "tags": []
   },
   "outputs": [],
   "source": [
    "list_classes = [\"Computer Science\", \"Physics\", \"Mathematics\", \"Statistics\", \"Quantitative Biology\", \"Quantitative Finance\"]\n",
    "y = train[list_classes].values"
   ]
  },
  {
   "cell_type": "code",
   "execution_count": 7,
   "metadata": {
    "execution": {
     "iopub.execute_input": "2020-08-17T07:19:21.449086Z",
     "iopub.status.busy": "2020-08-17T07:19:21.448289Z",
     "iopub.status.idle": "2020-08-17T07:19:21.452738Z",
     "shell.execute_reply": "2020-08-17T07:19:21.452111Z"
    },
    "papermill": {
     "duration": 0.056854,
     "end_time": "2020-08-17T07:19:21.452858",
     "exception": false,
     "start_time": "2020-08-17T07:19:21.396004",
     "status": "completed"
    },
    "tags": []
   },
   "outputs": [
    {
     "data": {
      "text/plain": [
       "array([[1, 0, 0, 0, 0, 0],\n",
       "       [1, 0, 0, 0, 0, 0],\n",
       "       [0, 0, 1, 0, 0, 0],\n",
       "       ...,\n",
       "       [1, 0, 0, 0, 0, 0],\n",
       "       [0, 0, 1, 1, 0, 0],\n",
       "       [0, 0, 1, 1, 0, 0]])"
      ]
     },
     "execution_count": 7,
     "metadata": {},
     "output_type": "execute_result"
    }
   ],
   "source": [
    "y"
   ]
  },
  {
   "cell_type": "code",
   "execution_count": 8,
   "metadata": {
    "execution": {
     "iopub.execute_input": "2020-08-17T07:19:21.553428Z",
     "iopub.status.busy": "2020-08-17T07:19:21.552691Z",
     "iopub.status.idle": "2020-08-17T07:19:29.680610Z",
     "shell.execute_reply": "2020-08-17T07:19:29.679671Z"
    },
    "papermill": {
     "duration": 8.18008,
     "end_time": "2020-08-17T07:19:29.680744",
     "exception": false,
     "start_time": "2020-08-17T07:19:21.500664",
     "status": "completed"
    },
    "tags": []
   },
   "outputs": [
    {
     "name": "stderr",
     "output_type": "stream",
     "text": [
      "\u001b[34m\u001b[1mwandb\u001b[0m: \u001b[33mWARNING\u001b[0m W&B installed but not logged in.  Run `wandb login` or set the WANDB_API_KEY env variable.\n"
     ]
    }
   ],
   "source": [
    "import tensorflow as tf\n",
    "import transformers\n",
    "from sklearn.model_selection import KFold"
   ]
  },
  {
   "cell_type": "code",
   "execution_count": 9,
   "metadata": {
    "execution": {
     "iopub.execute_input": "2020-08-17T07:19:29.891827Z",
     "iopub.status.busy": "2020-08-17T07:19:29.790781Z",
     "iopub.status.idle": "2020-08-17T07:19:34.410292Z",
     "shell.execute_reply": "2020-08-17T07:19:34.409638Z"
    },
    "papermill": {
     "duration": 4.681681,
     "end_time": "2020-08-17T07:19:34.410430",
     "exception": false,
     "start_time": "2020-08-17T07:19:29.728749",
     "status": "completed"
    },
    "tags": []
   },
   "outputs": [],
   "source": [
    "try:\n",
    "    tpu = tf.distribute.cluster_resolver.TPUClusterResolver()\n",
    "    tf.config.experimental_connect_to_cluster(tpu)\n",
    "    tf.tpu.experimental.initialize_tpu_system(tpu)\n",
    "    strategy = tf.distribute.experimental.TPUStrategy(tpu)\n",
    "except ValueError:\n",
    "    strategy = tf.distribute.get_strategy() # for CPU and single GPU\n",
    "    print('Number of replicas:', strategy.num_replicas_in_sync)"
   ]
  },
  {
   "cell_type": "code",
   "execution_count": 10,
   "metadata": {
    "execution": {
     "iopub.execute_input": "2020-08-17T07:19:34.517410Z",
     "iopub.status.busy": "2020-08-17T07:19:34.516596Z",
     "iopub.status.idle": "2020-08-17T07:19:34.519913Z",
     "shell.execute_reply": "2020-08-17T07:19:34.519156Z"
    },
    "papermill": {
     "duration": 0.061361,
     "end_time": "2020-08-17T07:19:34.520033",
     "exception": false,
     "start_time": "2020-08-17T07:19:34.458672",
     "status": "completed"
    },
    "tags": []
   },
   "outputs": [],
   "source": [
    "#!pip install transformers"
   ]
  },
  {
   "cell_type": "code",
   "execution_count": 11,
   "metadata": {
    "execution": {
     "iopub.execute_input": "2020-08-17T07:19:34.622164Z",
     "iopub.status.busy": "2020-08-17T07:19:34.621117Z",
     "iopub.status.idle": "2020-08-17T07:19:34.625239Z",
     "shell.execute_reply": "2020-08-17T07:19:34.625777Z"
    },
    "papermill": {
     "duration": 0.057921,
     "end_time": "2020-08-17T07:19:34.625933",
     "exception": false,
     "start_time": "2020-08-17T07:19:34.568012",
     "status": "completed"
    },
    "tags": []
   },
   "outputs": [
    {
     "data": {
      "text/plain": [
       "'3.0.2'"
      ]
     },
     "execution_count": 11,
     "metadata": {},
     "output_type": "execute_result"
    }
   ],
   "source": [
    "transformers.__version__"
   ]
  },
  {
   "cell_type": "code",
   "execution_count": 12,
   "metadata": {
    "execution": {
     "iopub.execute_input": "2020-08-17T07:19:34.728516Z",
     "iopub.status.busy": "2020-08-17T07:19:34.727733Z",
     "iopub.status.idle": "2020-08-17T07:19:34.731095Z",
     "shell.execute_reply": "2020-08-17T07:19:34.730534Z"
    },
    "papermill": {
     "duration": 0.056554,
     "end_time": "2020-08-17T07:19:34.731240",
     "exception": false,
     "start_time": "2020-08-17T07:19:34.674686",
     "status": "completed"
    },
    "tags": []
   },
   "outputs": [],
   "source": [
    "from transformers import AutoTokenizer, TFAutoModel"
   ]
  },
  {
   "cell_type": "code",
   "execution_count": 13,
   "metadata": {
    "execution": {
     "iopub.execute_input": "2020-08-17T07:19:34.833413Z",
     "iopub.status.busy": "2020-08-17T07:19:34.832683Z",
     "iopub.status.idle": "2020-08-17T07:19:34.836111Z",
     "shell.execute_reply": "2020-08-17T07:19:34.835540Z"
    },
    "papermill": {
     "duration": 0.056714,
     "end_time": "2020-08-17T07:19:34.836250",
     "exception": false,
     "start_time": "2020-08-17T07:19:34.779536",
     "status": "completed"
    },
    "tags": []
   },
   "outputs": [],
   "source": [
    "epochs = 4\n",
    "maxlen = 150\n",
    "\n",
    "model_name = \"roberta-base\"\n",
    "\n",
    "batch_size = 8 * strategy.num_replicas_in_sync"
   ]
  },
  {
   "cell_type": "code",
   "execution_count": 14,
   "metadata": {
    "execution": {
     "iopub.execute_input": "2020-08-17T07:19:34.939654Z",
     "iopub.status.busy": "2020-08-17T07:19:34.938573Z",
     "iopub.status.idle": "2020-08-17T07:19:37.081741Z",
     "shell.execute_reply": "2020-08-17T07:19:37.080771Z"
    },
    "papermill": {
     "duration": 2.196404,
     "end_time": "2020-08-17T07:19:37.081918",
     "exception": false,
     "start_time": "2020-08-17T07:19:34.885514",
     "status": "completed"
    },
    "tags": []
   },
   "outputs": [
    {
     "data": {
      "application/vnd.jupyter.widget-view+json": {
       "model_id": "96b8be97996349809961ff5301479452",
       "version_major": 2,
       "version_minor": 0
      },
      "text/plain": [
       "HBox(children=(FloatProgress(value=0.0, description='Downloading', max=481.0, style=ProgressStyle(description_…"
      ]
     },
     "metadata": {},
     "output_type": "display_data"
    },
    {
     "name": "stdout",
     "output_type": "stream",
     "text": [
      "\n"
     ]
    },
    {
     "data": {
      "application/vnd.jupyter.widget-view+json": {
       "model_id": "e70f60a27b38495b83790c8530a6747c",
       "version_major": 2,
       "version_minor": 0
      },
      "text/plain": [
       "HBox(children=(FloatProgress(value=0.0, description='Downloading', max=898823.0, style=ProgressStyle(descripti…"
      ]
     },
     "metadata": {},
     "output_type": "display_data"
    },
    {
     "name": "stdout",
     "output_type": "stream",
     "text": [
      "\n"
     ]
    },
    {
     "data": {
      "application/vnd.jupyter.widget-view+json": {
       "model_id": "ac6c8088d8634f03a1ede44e9fc20a67",
       "version_major": 2,
       "version_minor": 0
      },
      "text/plain": [
       "HBox(children=(FloatProgress(value=0.0, description='Downloading', max=456318.0, style=ProgressStyle(descripti…"
      ]
     },
     "metadata": {},
     "output_type": "display_data"
    },
    {
     "name": "stdout",
     "output_type": "stream",
     "text": [
      "\n"
     ]
    }
   ],
   "source": [
    "tokenizer = AutoTokenizer.from_pretrained(model_name)"
   ]
  },
  {
   "cell_type": "code",
   "execution_count": 15,
   "metadata": {
    "execution": {
     "iopub.execute_input": "2020-08-17T07:19:37.195852Z",
     "iopub.status.busy": "2020-08-17T07:19:37.194938Z",
     "iopub.status.idle": "2020-08-17T07:19:37.199399Z",
     "shell.execute_reply": "2020-08-17T07:19:37.198627Z"
    },
    "papermill": {
     "duration": 0.06475,
     "end_time": "2020-08-17T07:19:37.199531",
     "exception": false,
     "start_time": "2020-08-17T07:19:37.134781",
     "status": "completed"
    },
    "tags": []
   },
   "outputs": [
    {
     "data": {
      "text/plain": [
       "array(['Reconstructing Subject-Specific Effect Maps',\n",
       "       'Rotation Invariance Neural Network',\n",
       "       'Spherical polyharmonics and Poisson kernels for polyharmonic functions',\n",
       "       ..., 'Analysing Soccer Games with Clustering and Conceptors',\n",
       "       'On the Efficient Simulation of the Left-Tail of the Sum of Correlated Log-normal Variates',\n",
       "       'Why optional stopping is a problem for Bayesians'], dtype=object)"
      ]
     },
     "execution_count": 15,
     "metadata": {},
     "output_type": "execute_result"
    }
   ],
   "source": [
    "train.TITLE.values"
   ]
  },
  {
   "cell_type": "code",
   "execution_count": 16,
   "metadata": {
    "execution": {
     "iopub.execute_input": "2020-08-17T07:19:37.327852Z",
     "iopub.status.busy": "2020-08-17T07:19:37.327068Z",
     "iopub.status.idle": "2020-08-17T07:20:39.590908Z",
     "shell.execute_reply": "2020-08-17T07:20:39.591607Z"
    },
    "papermill": {
     "duration": 62.340315,
     "end_time": "2020-08-17T07:20:39.591781",
     "exception": false,
     "start_time": "2020-08-17T07:19:37.251466",
     "status": "completed"
    },
    "tags": []
   },
   "outputs": [
    {
     "name": "stdout",
     "output_type": "stream",
     "text": [
      "CPU times: user 1min 1s, sys: 1.24 s, total: 1min 2s\n",
      "Wall time: 1min 2s\n"
     ]
    }
   ],
   "source": [
    "%%time\n",
    "train_encode = tokenizer(list(train.TITLE.values), list(train.ABSTRACT.values), \n",
    "                      max_length=maxlen, return_tensors=\"np\", padding=True, \n",
    "                      return_token_type_ids=True, return_attention_mask=True)"
   ]
  },
  {
   "cell_type": "code",
   "execution_count": 17,
   "metadata": {
    "execution": {
     "iopub.execute_input": "2020-08-17T07:20:39.708660Z",
     "iopub.status.busy": "2020-08-17T07:20:39.707828Z",
     "iopub.status.idle": "2020-08-17T07:20:39.712169Z",
     "shell.execute_reply": "2020-08-17T07:20:39.711467Z"
    },
    "papermill": {
     "duration": 0.068021,
     "end_time": "2020-08-17T07:20:39.712304",
     "exception": false,
     "start_time": "2020-08-17T07:20:39.644283",
     "status": "completed"
    },
    "tags": []
   },
   "outputs": [
    {
     "data": {
      "text/plain": [
       "{'input_ids': array([[    0, 21109,   261, ...,     1,     1,     1],\n",
       "       [    0,   500, 35915, ...,     1,     1,     1],\n",
       "       [    0, 12582, 48152, ...,     1,     1,     1],\n",
       "       ...,\n",
       "       [    0,  4688, 38711, ...,     1,     1,     1],\n",
       "       [    0,  4148,     5, ...,     1,     1,     1],\n",
       "       [    0,  7608, 17679, ...,     1,     1,     1]]), 'token_type_ids': array([[0, 0, 0, ..., 0, 0, 0],\n",
       "       [0, 0, 0, ..., 0, 0, 0],\n",
       "       [0, 0, 0, ..., 0, 0, 0],\n",
       "       ...,\n",
       "       [0, 0, 0, ..., 0, 0, 0],\n",
       "       [0, 0, 0, ..., 0, 0, 0],\n",
       "       [0, 0, 0, ..., 0, 0, 0]]), 'attention_mask': array([[1, 1, 1, ..., 0, 0, 0],\n",
       "       [1, 1, 1, ..., 0, 0, 0],\n",
       "       [1, 1, 1, ..., 0, 0, 0],\n",
       "       ...,\n",
       "       [1, 1, 1, ..., 0, 0, 0],\n",
       "       [1, 1, 1, ..., 0, 0, 0],\n",
       "       [1, 1, 1, ..., 0, 0, 0]])}"
      ]
     },
     "execution_count": 17,
     "metadata": {},
     "output_type": "execute_result"
    }
   ],
   "source": [
    "train_encode"
   ]
  },
  {
   "cell_type": "code",
   "execution_count": 18,
   "metadata": {
    "execution": {
     "iopub.execute_input": "2020-08-17T07:20:39.831820Z",
     "iopub.status.busy": "2020-08-17T07:20:39.830654Z",
     "iopub.status.idle": "2020-08-17T07:20:39.834112Z",
     "shell.execute_reply": "2020-08-17T07:20:39.833478Z"
    },
    "papermill": {
     "duration": 0.068779,
     "end_time": "2020-08-17T07:20:39.834257",
     "exception": false,
     "start_time": "2020-08-17T07:20:39.765478",
     "status": "completed"
    },
    "tags": []
   },
   "outputs": [],
   "source": [
    "def get_model(maxlen=150):\n",
    "    \n",
    "    #base_model = TFDistilBertModel.from_pretrained(\"distilbert-base-multilingual-cased\")\n",
    "    \n",
    "    base_model = TFAutoModel.from_pretrained(model_name)\n",
    "    \n",
    "    input_ids = tf.keras.layers.Input(shape =(maxlen, ), dtype=tf.int32, name=\"input_ids\")\n",
    "    input_type = tf.keras.layers.Input(shape =(maxlen, ), dtype=tf.int32, name=\"token_type_ids\")\n",
    "    input_mask = tf.keras.layers.Input(shape =(maxlen, ), dtype=tf.int32, name=\"attention_mask\")\n",
    "    \n",
    "    \n",
    "    embedding = base_model([input_ids, input_mask, input_type])[0]\n",
    "    #embedding = base_model([input_ids, input_mask])[0]\n",
    "    \n",
    "    print(embedding.shape)\n",
    "    \n",
    "    output = tf.keras.layers.Dense(6, activation=\"sigmoid\")(embedding[:, 0, :])\n",
    "    \n",
    "    model = tf.keras.models.Model(inputs=[input_ids, input_mask, input_type], outputs = output)\n",
    "    \n",
    "    model.compile(tf.keras.optimizers.Adam(1e-5), \"binary_crossentropy\", [\"accuracy\"])\n",
    "    \n",
    "    return model"
   ]
  },
  {
   "cell_type": "code",
   "execution_count": 19,
   "metadata": {
    "execution": {
     "iopub.execute_input": "2020-08-17T07:20:39.947886Z",
     "iopub.status.busy": "2020-08-17T07:20:39.947091Z",
     "iopub.status.idle": "2020-08-17T07:21:36.068982Z",
     "shell.execute_reply": "2020-08-17T07:21:36.069994Z"
    },
    "papermill": {
     "duration": 56.182438,
     "end_time": "2020-08-17T07:21:36.070184",
     "exception": false,
     "start_time": "2020-08-17T07:20:39.887746",
     "status": "completed"
    },
    "tags": []
   },
   "outputs": [
    {
     "data": {
      "application/vnd.jupyter.widget-view+json": {
       "model_id": "45a7a29e6d3f407bb22a4cfd7b9f8b65",
       "version_major": 2,
       "version_minor": 0
      },
      "text/plain": [
       "HBox(children=(FloatProgress(value=0.0, description='Downloading', max=657434796.0, style=ProgressStyle(descri…"
      ]
     },
     "metadata": {},
     "output_type": "display_data"
    },
    {
     "name": "stdout",
     "output_type": "stream",
     "text": [
      "\n",
      "(None, 150, 768)\n",
      "Model: \"model\"\n",
      "__________________________________________________________________________________________________\n",
      "Layer (type)                    Output Shape         Param #     Connected to                     \n",
      "==================================================================================================\n",
      "input_ids (InputLayer)          [(None, 150)]        0                                            \n",
      "__________________________________________________________________________________________________\n",
      "attention_mask (InputLayer)     [(None, 150)]        0                                            \n",
      "__________________________________________________________________________________________________\n",
      "token_type_ids (InputLayer)     [(None, 150)]        0                                            \n",
      "__________________________________________________________________________________________________\n",
      "tf_roberta_model (TFRobertaMode ((None, 150, 768), ( 124645632   input_ids[0][0]                  \n",
      "                                                                 attention_mask[0][0]             \n",
      "                                                                 token_type_ids[0][0]             \n",
      "__________________________________________________________________________________________________\n",
      "tf_op_layer_strided_slice (Tens [(None, 768)]        0           tf_roberta_model[0][0]           \n",
      "__________________________________________________________________________________________________\n",
      "dense (Dense)                   (None, 6)            4614        tf_op_layer_strided_slice[0][0]  \n",
      "==================================================================================================\n",
      "Total params: 124,650,246\n",
      "Trainable params: 124,650,246\n",
      "Non-trainable params: 0\n",
      "__________________________________________________________________________________________________\n"
     ]
    }
   ],
   "source": [
    "with strategy.scope():\n",
    "    cls_model = get_model(maxlen)\n",
    "    cls_model.summary()"
   ]
  },
  {
   "cell_type": "code",
   "execution_count": 20,
   "metadata": {
    "execution": {
     "iopub.execute_input": "2020-08-17T07:21:36.191488Z",
     "iopub.status.busy": "2020-08-17T07:21:36.188458Z",
     "iopub.status.idle": "2020-08-17T07:21:41.368825Z",
     "shell.execute_reply": "2020-08-17T07:21:41.369458Z"
    },
    "papermill": {
     "duration": 5.244589,
     "end_time": "2020-08-17T07:21:41.369618",
     "exception": false,
     "start_time": "2020-08-17T07:21:36.125029",
     "status": "completed"
    },
    "tags": []
   },
   "outputs": [
    {
     "name": "stdout",
     "output_type": "stream",
     "text": [
      "CPU times: user 639 ms, sys: 206 ms, total: 844 ms\n",
      "Wall time: 5.18 s\n"
     ]
    }
   ],
   "source": [
    "%%time\n",
    "ps = cls_model([train_encode['input_ids'][:10], train_encode['attention_mask'][:10], train_encode['token_type_ids'][:10]])"
   ]
  },
  {
   "cell_type": "code",
   "execution_count": 21,
   "metadata": {
    "execution": {
     "iopub.execute_input": "2020-08-17T07:21:41.482914Z",
     "iopub.status.busy": "2020-08-17T07:21:41.482169Z",
     "iopub.status.idle": "2020-08-17T07:21:41.485574Z",
     "shell.execute_reply": "2020-08-17T07:21:41.484904Z"
    },
    "papermill": {
     "duration": 0.063311,
     "end_time": "2020-08-17T07:21:41.485690",
     "exception": false,
     "start_time": "2020-08-17T07:21:41.422379",
     "status": "completed"
    },
    "tags": []
   },
   "outputs": [],
   "source": [
    "fold = KFold(n_splits=4, shuffle=True, random_state=108)"
   ]
  },
  {
   "cell_type": "code",
   "execution_count": 22,
   "metadata": {
    "execution": {
     "iopub.execute_input": "2020-08-17T07:21:41.599792Z",
     "iopub.status.busy": "2020-08-17T07:21:41.598636Z",
     "iopub.status.idle": "2020-08-17T07:49:56.314662Z",
     "shell.execute_reply": "2020-08-17T07:49:56.313789Z"
    },
    "papermill": {
     "duration": 1694.776089,
     "end_time": "2020-08-17T07:49:56.314824",
     "exception": false,
     "start_time": "2020-08-17T07:21:41.538735",
     "status": "completed"
    },
    "tags": []
   },
   "outputs": [
    {
     "name": "stdout",
     "output_type": "stream",
     "text": [
      "----FOLD: 1----\n",
      " [    0     3     4 ... 20967 20968 20971] [    1     2     9 ... 20964 20969 20970]\n",
      "Epoch 1/4\n",
      "246/246 [==============================] - 139s 565ms/step - accuracy: 0.6701 - loss: 0.2471 - val_accuracy: 0.7271 - val_loss: 0.1870\n",
      "Epoch 2/4\n",
      "246/246 [==============================] - 98s 399ms/step - accuracy: 0.7692 - loss: 0.1712 - val_accuracy: 0.7913 - val_loss: 0.1767\n",
      "Epoch 3/4\n",
      "246/246 [==============================] - 98s 399ms/step - accuracy: 0.7896 - loss: 0.1523 - val_accuracy: 0.7847 - val_loss: 0.1727\n",
      "Epoch 4/4\n",
      "246/246 [==============================] - 98s 398ms/step - accuracy: 0.8063 - loss: 0.1384 - val_accuracy: 0.7763 - val_loss: 0.1706\n",
      "----FOLD: 2----\n",
      " [    0     1     2 ... 20967 20969 20970] [   12    19    27 ... 20965 20968 20971]\n",
      "Epoch 1/4\n",
      "246/246 [==============================] - 98s 398ms/step - accuracy: 0.8016 - loss: 0.1418 - val_accuracy: 0.8306 - val_loss: 0.1114\n",
      "Epoch 2/4\n",
      "246/246 [==============================] - 98s 398ms/step - accuracy: 0.8137 - loss: 0.1283 - val_accuracy: 0.8556 - val_loss: 0.1239\n",
      "Epoch 3/4\n",
      "246/246 [==============================] - 98s 398ms/step - accuracy: 0.8318 - loss: 0.1141 - val_accuracy: 0.8407 - val_loss: 0.1168\n",
      "Epoch 4/4\n",
      "246/246 [==============================] - 98s 399ms/step - accuracy: 0.8446 - loss: 0.1006 - val_accuracy: 0.8405 - val_loss: 0.1287\n",
      "----FOLD: 3----\n",
      " [    0     1     2 ... 20969 20970 20971] [    3     4     6 ... 20958 20959 20962]\n",
      "Epoch 1/4\n",
      "246/246 [==============================] - 99s 401ms/step - accuracy: 0.8402 - loss: 0.1074 - val_accuracy: 0.8987 - val_loss: 0.0704\n",
      "Epoch 2/4\n",
      "246/246 [==============================] - 98s 400ms/step - accuracy: 0.8541 - loss: 0.0910 - val_accuracy: 0.8804 - val_loss: 0.0749\n",
      "Epoch 3/4\n",
      "246/246 [==============================] - 98s 399ms/step - accuracy: 0.8652 - loss: 0.0781 - val_accuracy: 0.8978 - val_loss: 0.0649\n",
      "Epoch 4/4\n",
      "246/246 [==============================] - 98s 399ms/step - accuracy: 0.8776 - loss: 0.0669 - val_accuracy: 0.8949 - val_loss: 0.0681\n",
      "----FOLD: 4----\n",
      " [    1     2     3 ... 20969 20970 20971] [    0     5     8 ... 20963 20966 20967]\n",
      "Epoch 1/4\n",
      "246/246 [==============================] - 98s 398ms/step - accuracy: 0.8725 - loss: 0.0710 - val_accuracy: 0.9258 - val_loss: 0.0351\n",
      "Epoch 2/4\n",
      "246/246 [==============================] - 98s 398ms/step - accuracy: 0.8800 - loss: 0.0596 - val_accuracy: 0.8760 - val_loss: 0.0327\n",
      "Epoch 3/4\n",
      "246/246 [==============================] - 98s 399ms/step - accuracy: 0.8835 - loss: 0.0502 - val_accuracy: 0.9067 - val_loss: 0.0364\n",
      "Epoch 4/4\n",
      "246/246 [==============================] - 98s 398ms/step - accuracy: 0.8830 - loss: 0.0437 - val_accuracy: 0.9071 - val_loss: 0.0323\n",
      "CPU times: user 2min 21s, sys: 16.4 s, total: 2min 37s\n",
      "Wall time: 28min 13s\n"
     ]
    }
   ],
   "source": [
    "%%time\n",
    "hists = []\n",
    "models = []\n",
    "for i, (train_idx, val_idx) in enumerate(fold.split(np.arange(y.shape[0]))):\n",
    "    print(f\"----FOLD: {i+1}----\\n\",train_idx, val_idx)\n",
    "    \n",
    "    \n",
    "    x_train = [train_encode['input_ids'][train_idx], \n",
    "               train_encode['attention_mask'][train_idx], \n",
    "               train_encode['token_type_ids'][train_idx]]\n",
    "    \n",
    "    y_train = y[train_idx]\n",
    "    \n",
    "    x_val = [train_encode['input_ids'][val_idx],\n",
    "             train_encode['attention_mask'][val_idx],\n",
    "             train_encode['token_type_ids'][val_idx]]\n",
    "    y_val = y[val_idx]\n",
    "    \n",
    "    \n",
    "    hist=cls_model.fit(x_train, y_train,\n",
    "                       epochs=4, \n",
    "                       batch_size = batch_size,\n",
    "                       validation_data = (x_val, y_val),\n",
    "                      )\n",
    "    hists.append(hist)\n",
    "    #models.append(cls_model)\n",
    "    \n",
    "    gc.collect()"
   ]
  },
  {
   "cell_type": "code",
   "execution_count": 23,
   "metadata": {
    "execution": {
     "iopub.execute_input": "2020-08-17T07:50:00.124232Z",
     "iopub.status.busy": "2020-08-17T07:50:00.123346Z",
     "iopub.status.idle": "2020-08-17T07:50:00.127039Z",
     "shell.execute_reply": "2020-08-17T07:50:00.127656Z"
    },
    "papermill": {
     "duration": 2.177492,
     "end_time": "2020-08-17T07:50:00.127812",
     "exception": false,
     "start_time": "2020-08-17T07:49:57.950320",
     "status": "completed"
    },
    "tags": []
   },
   "outputs": [
    {
     "data": {
      "text/plain": [
       "20"
      ]
     },
     "execution_count": 23,
     "metadata": {},
     "output_type": "execute_result"
    }
   ],
   "source": [
    "gc.collect()"
   ]
  },
  {
   "cell_type": "code",
   "execution_count": 24,
   "metadata": {
    "execution": {
     "iopub.execute_input": "2020-08-17T07:50:03.594533Z",
     "iopub.status.busy": "2020-08-17T07:50:03.593520Z",
     "iopub.status.idle": "2020-08-17T07:50:23.603721Z",
     "shell.execute_reply": "2020-08-17T07:50:23.603066Z"
    },
    "papermill": {
     "duration": 21.698925,
     "end_time": "2020-08-17T07:50:23.603859",
     "exception": false,
     "start_time": "2020-08-17T07:50:01.904934",
     "status": "completed"
    },
    "tags": []
   },
   "outputs": [
    {
     "name": "stdout",
     "output_type": "stream",
     "text": [
      "CPU times: user 19.7 s, sys: 325 ms, total: 20 s\n",
      "Wall time: 20 s\n"
     ]
    }
   ],
   "source": [
    "%%time\n",
    "test_encode = tokenizer(list(test.TITLE.values), list(test.ABSTRACT.values), \n",
    "                      max_length=maxlen, return_tensors=\"tf\", padding=True, \n",
    "                      return_token_type_ids=True, return_attention_mask=True)"
   ]
  },
  {
   "cell_type": "code",
   "execution_count": 25,
   "metadata": {
    "execution": {
     "iopub.execute_input": "2020-08-17T07:50:26.945556Z",
     "iopub.status.busy": "2020-08-17T07:50:26.944755Z",
     "iopub.status.idle": "2020-08-17T07:51:04.663862Z",
     "shell.execute_reply": "2020-08-17T07:51:04.662929Z"
    },
    "papermill": {
     "duration": 39.391817,
     "end_time": "2020-08-17T07:51:04.664052",
     "exception": false,
     "start_time": "2020-08-17T07:50:25.272235",
     "status": "completed"
    },
    "tags": []
   },
   "outputs": [
    {
     "name": "stdout",
     "output_type": "stream",
     "text": [
      "141/141 [==============================] - 22s 158ms/step\n"
     ]
    }
   ],
   "source": [
    "ps = cls_model.predict([test_encode['input_ids'], test_encode['attention_mask'], test_encode['token_type_ids']],\n",
    "                      verbose=1, batch_size=batch_size)"
   ]
  },
  {
   "cell_type": "code",
   "execution_count": 26,
   "metadata": {
    "execution": {
     "iopub.execute_input": "2020-08-17T07:51:08.152225Z",
     "iopub.status.busy": "2020-08-17T07:51:08.151233Z",
     "iopub.status.idle": "2020-08-17T07:51:08.155555Z",
     "shell.execute_reply": "2020-08-17T07:51:08.154917Z"
    },
    "papermill": {
     "duration": 1.793304,
     "end_time": "2020-08-17T07:51:08.155690",
     "exception": false,
     "start_time": "2020-08-17T07:51:06.362386",
     "status": "completed"
    },
    "tags": []
   },
   "outputs": [
    {
     "data": {
      "text/plain": [
       "array([[8.57650042e-02, 1.43885612e-04, 1.03149116e-02, 9.99757528e-01,\n",
       "        1.78843737e-04, 9.04291868e-04],\n",
       "       [2.15768814e-05, 9.99910593e-01, 2.15172768e-05, 5.10036945e-04,\n",
       "        1.77025795e-05, 8.65757465e-05],\n",
       "       [9.99931753e-01, 2.57313251e-04, 7.95817375e-03, 7.21812248e-04,\n",
       "        1.14530325e-04, 1.71869993e-04],\n",
       "       ...,\n",
       "       [8.85432959e-03, 1.14756823e-03, 5.90682030e-05, 2.40893751e-01,\n",
       "        9.28167224e-01, 1.44892931e-03],\n",
       "       [5.86247444e-03, 7.66545534e-04, 6.51940405e-02, 9.99529004e-01,\n",
       "        1.20881200e-03, 2.20295787e-03],\n",
       "       [8.82746339e-01, 1.92910433e-04, 9.55258191e-01, 7.34031200e-05,\n",
       "        9.55462456e-05, 1.07288361e-04]], dtype=float32)"
      ]
     },
     "execution_count": 26,
     "metadata": {},
     "output_type": "execute_result"
    }
   ],
   "source": [
    "ps"
   ]
  },
  {
   "cell_type": "code",
   "execution_count": 27,
   "metadata": {
    "execution": {
     "iopub.execute_input": "2020-08-17T07:51:11.520053Z",
     "iopub.status.busy": "2020-08-17T07:51:11.519176Z",
     "iopub.status.idle": "2020-08-17T07:51:11.523426Z",
     "shell.execute_reply": "2020-08-17T07:51:11.522690Z"
    },
    "papermill": {
     "duration": 1.686749,
     "end_time": "2020-08-17T07:51:11.523546",
     "exception": false,
     "start_time": "2020-08-17T07:51:09.836797",
     "status": "completed"
    },
    "tags": []
   },
   "outputs": [
    {
     "data": {
      "text/plain": [
       "numpy.ndarray"
      ]
     },
     "execution_count": 27,
     "metadata": {},
     "output_type": "execute_result"
    }
   ],
   "source": [
    "type(ps)"
   ]
  },
  {
   "cell_type": "code",
   "execution_count": 28,
   "metadata": {
    "execution": {
     "iopub.execute_input": "2020-08-17T07:51:14.899699Z",
     "iopub.status.busy": "2020-08-17T07:51:14.898624Z",
     "iopub.status.idle": "2020-08-17T07:51:14.901705Z",
     "shell.execute_reply": "2020-08-17T07:51:14.902268Z"
    },
    "papermill": {
     "duration": 1.692304,
     "end_time": "2020-08-17T07:51:14.902432",
     "exception": false,
     "start_time": "2020-08-17T07:51:13.210128",
     "status": "completed"
    },
    "tags": []
   },
   "outputs": [],
   "source": [
    "ps1 = np.round(ps, 2)"
   ]
  },
  {
   "cell_type": "code",
   "execution_count": 29,
   "metadata": {
    "execution": {
     "iopub.execute_input": "2020-08-17T07:51:18.361595Z",
     "iopub.status.busy": "2020-08-17T07:51:18.360511Z",
     "iopub.status.idle": "2020-08-17T07:51:18.365341Z",
     "shell.execute_reply": "2020-08-17T07:51:18.364764Z"
    },
    "papermill": {
     "duration": 1.730175,
     "end_time": "2020-08-17T07:51:18.365467",
     "exception": false,
     "start_time": "2020-08-17T07:51:16.635292",
     "status": "completed"
    },
    "tags": []
   },
   "outputs": [
    {
     "data": {
      "text/plain": [
       "array([[0.09, 0.  , 0.01, 1.  , 0.  , 0.  ],\n",
       "       [0.  , 1.  , 0.  , 0.  , 0.  , 0.  ],\n",
       "       [1.  , 0.  , 0.01, 0.  , 0.  , 0.  ],\n",
       "       ...,\n",
       "       [0.01, 0.  , 0.  , 0.24, 0.93, 0.  ],\n",
       "       [0.01, 0.  , 0.07, 1.  , 0.  , 0.  ],\n",
       "       [0.88, 0.  , 0.96, 0.  , 0.  , 0.  ]], dtype=float32)"
      ]
     },
     "execution_count": 29,
     "metadata": {},
     "output_type": "execute_result"
    }
   ],
   "source": [
    "ps1"
   ]
  },
  {
   "cell_type": "code",
   "execution_count": 30,
   "metadata": {
    "execution": {
     "iopub.execute_input": "2020-08-17T07:51:21.739361Z",
     "iopub.status.busy": "2020-08-17T07:51:21.738639Z",
     "iopub.status.idle": "2020-08-17T07:51:21.744008Z",
     "shell.execute_reply": "2020-08-17T07:51:21.743357Z"
    },
    "papermill": {
     "duration": 1.693942,
     "end_time": "2020-08-17T07:51:21.744149",
     "exception": false,
     "start_time": "2020-08-17T07:51:20.050207",
     "status": "completed"
    },
    "tags": []
   },
   "outputs": [
    {
     "data": {
      "text/plain": [
       "array([[0., 0., 0., 1., 0., 0.],\n",
       "       [0., 1., 0., 0., 0., 0.],\n",
       "       [1., 0., 0., 0., 0., 0.],\n",
       "       ...,\n",
       "       [0., 0., 0., 0., 1., 0.],\n",
       "       [0., 0., 0., 1., 0., 0.],\n",
       "       [1., 0., 1., 0., 0., 0.]], dtype=float32)"
      ]
     },
     "execution_count": 30,
     "metadata": {},
     "output_type": "execute_result"
    }
   ],
   "source": [
    "ps2 = np.around(ps1)\n",
    "ps2"
   ]
  },
  {
   "cell_type": "code",
   "execution_count": 31,
   "metadata": {
    "execution": {
     "iopub.execute_input": "2020-08-17T07:51:25.149451Z",
     "iopub.status.busy": "2020-08-17T07:51:25.148531Z",
     "iopub.status.idle": "2020-08-17T07:51:25.153224Z",
     "shell.execute_reply": "2020-08-17T07:51:25.152590Z"
    },
    "papermill": {
     "duration": 1.691653,
     "end_time": "2020-08-17T07:51:25.153355",
     "exception": false,
     "start_time": "2020-08-17T07:51:23.461702",
     "status": "completed"
    },
    "tags": []
   },
   "outputs": [
    {
     "data": {
      "text/plain": [
       "(8989, 6)"
      ]
     },
     "execution_count": 31,
     "metadata": {},
     "output_type": "execute_result"
    }
   ],
   "source": [
    "ps2.shape"
   ]
  },
  {
   "cell_type": "code",
   "execution_count": 32,
   "metadata": {
    "execution": {
     "iopub.execute_input": "2020-08-17T07:51:28.620269Z",
     "iopub.status.busy": "2020-08-17T07:51:28.619311Z",
     "iopub.status.idle": "2020-08-17T07:51:28.623826Z",
     "shell.execute_reply": "2020-08-17T07:51:28.623183Z"
    },
    "papermill": {
     "duration": 1.737114,
     "end_time": "2020-08-17T07:51:28.623972",
     "exception": false,
     "start_time": "2020-08-17T07:51:26.886858",
     "status": "completed"
    },
    "tags": []
   },
   "outputs": [
    {
     "data": {
      "text/plain": [
       "array([0., 0., 1., ..., 0., 0., 1.], dtype=float32)"
      ]
     },
     "execution_count": 32,
     "metadata": {},
     "output_type": "execute_result"
    }
   ],
   "source": [
    "ps2[:,0]"
   ]
  },
  {
   "cell_type": "code",
   "execution_count": 33,
   "metadata": {
    "execution": {
     "iopub.execute_input": "2020-08-17T07:51:32.026829Z",
     "iopub.status.busy": "2020-08-17T07:51:32.025696Z",
     "iopub.status.idle": "2020-08-17T07:51:32.031663Z",
     "shell.execute_reply": "2020-08-17T07:51:32.031003Z"
    },
    "papermill": {
     "duration": 1.705035,
     "end_time": "2020-08-17T07:51:32.031802",
     "exception": false,
     "start_time": "2020-08-17T07:51:30.326767",
     "status": "completed"
    },
    "tags": []
   },
   "outputs": [],
   "source": [
    "sample['Computer Science']=ps2[:,0]\n",
    "sample['Physics']=ps2[:,1]\n",
    "sample['Mathematics']=ps2[:,2]\n",
    "sample['Statistics']=ps2[:,3]\n",
    "sample['Quantitative Biology']=ps2[:,4]\n",
    "sample['Quantitative Finance']=ps2[:,5]"
   ]
  },
  {
   "cell_type": "code",
   "execution_count": 34,
   "metadata": {
    "execution": {
     "iopub.execute_input": "2020-08-17T07:51:35.478747Z",
     "iopub.status.busy": "2020-08-17T07:51:35.477817Z",
     "iopub.status.idle": "2020-08-17T07:51:35.482485Z",
     "shell.execute_reply": "2020-08-17T07:51:35.481668Z"
    },
    "papermill": {
     "duration": 1.71902,
     "end_time": "2020-08-17T07:51:35.482622",
     "exception": false,
     "start_time": "2020-08-17T07:51:33.763602",
     "status": "completed"
    },
    "tags": []
   },
   "outputs": [
    {
     "data": {
      "text/html": [
       "<div>\n",
       "<style scoped>\n",
       "    .dataframe tbody tr th:only-of-type {\n",
       "        vertical-align: middle;\n",
       "    }\n",
       "\n",
       "    .dataframe tbody tr th {\n",
       "        vertical-align: top;\n",
       "    }\n",
       "\n",
       "    .dataframe thead th {\n",
       "        text-align: right;\n",
       "    }\n",
       "</style>\n",
       "<table border=\"1\" class=\"dataframe\">\n",
       "  <thead>\n",
       "    <tr style=\"text-align: right;\">\n",
       "      <th></th>\n",
       "      <th>ID</th>\n",
       "      <th>Computer Science</th>\n",
       "      <th>Physics</th>\n",
       "      <th>Mathematics</th>\n",
       "      <th>Statistics</th>\n",
       "      <th>Quantitative Biology</th>\n",
       "      <th>Quantitative Finance</th>\n",
       "    </tr>\n",
       "  </thead>\n",
       "  <tbody>\n",
       "    <tr>\n",
       "      <th>0</th>\n",
       "      <td>20973</td>\n",
       "      <td>0.0</td>\n",
       "      <td>0.0</td>\n",
       "      <td>0.0</td>\n",
       "      <td>1.0</td>\n",
       "      <td>0.0</td>\n",
       "      <td>0.0</td>\n",
       "    </tr>\n",
       "    <tr>\n",
       "      <th>1</th>\n",
       "      <td>20974</td>\n",
       "      <td>0.0</td>\n",
       "      <td>1.0</td>\n",
       "      <td>0.0</td>\n",
       "      <td>0.0</td>\n",
       "      <td>0.0</td>\n",
       "      <td>0.0</td>\n",
       "    </tr>\n",
       "    <tr>\n",
       "      <th>2</th>\n",
       "      <td>20975</td>\n",
       "      <td>1.0</td>\n",
       "      <td>0.0</td>\n",
       "      <td>0.0</td>\n",
       "      <td>0.0</td>\n",
       "      <td>0.0</td>\n",
       "      <td>0.0</td>\n",
       "    </tr>\n",
       "    <tr>\n",
       "      <th>3</th>\n",
       "      <td>20976</td>\n",
       "      <td>0.0</td>\n",
       "      <td>1.0</td>\n",
       "      <td>0.0</td>\n",
       "      <td>0.0</td>\n",
       "      <td>0.0</td>\n",
       "      <td>0.0</td>\n",
       "    </tr>\n",
       "    <tr>\n",
       "      <th>4</th>\n",
       "      <td>20977</td>\n",
       "      <td>1.0</td>\n",
       "      <td>0.0</td>\n",
       "      <td>0.0</td>\n",
       "      <td>0.0</td>\n",
       "      <td>0.0</td>\n",
       "      <td>0.0</td>\n",
       "    </tr>\n",
       "  </tbody>\n",
       "</table>\n",
       "</div>"
      ],
      "text/plain": [
       "      ID  Computer Science  Physics  Mathematics  Statistics  \\\n",
       "0  20973               0.0      0.0          0.0         1.0   \n",
       "1  20974               0.0      1.0          0.0         0.0   \n",
       "2  20975               1.0      0.0          0.0         0.0   \n",
       "3  20976               0.0      1.0          0.0         0.0   \n",
       "4  20977               1.0      0.0          0.0         0.0   \n",
       "\n",
       "   Quantitative Biology  Quantitative Finance  \n",
       "0                   0.0                   0.0  \n",
       "1                   0.0                   0.0  \n",
       "2                   0.0                   0.0  \n",
       "3                   0.0                   0.0  \n",
       "4                   0.0                   0.0  "
      ]
     },
     "execution_count": 34,
     "metadata": {},
     "output_type": "execute_result"
    }
   ],
   "source": [
    "sample.head()"
   ]
  },
  {
   "cell_type": "code",
   "execution_count": 35,
   "metadata": {
    "execution": {
     "iopub.execute_input": "2020-08-17T07:51:38.955964Z",
     "iopub.status.busy": "2020-08-17T07:51:38.954950Z",
     "iopub.status.idle": "2020-08-17T07:51:39.093645Z",
     "shell.execute_reply": "2020-08-17T07:51:39.092905Z"
    },
    "papermill": {
     "duration": 1.869241,
     "end_time": "2020-08-17T07:51:39.093786",
     "exception": false,
     "start_time": "2020-08-17T07:51:37.224545",
     "status": "completed"
    },
    "tags": []
   },
   "outputs": [],
   "source": [
    "sample.to_csv('submission.csv', index=False)"
   ]
  },
  {
   "cell_type": "code",
   "execution_count": null,
   "metadata": {
    "papermill": {
     "duration": 1.732918,
     "end_time": "2020-08-17T07:51:42.574524",
     "exception": false,
     "start_time": "2020-08-17T07:51:40.841606",
     "status": "completed"
    },
    "tags": []
   },
   "outputs": [],
   "source": []
  }
 ],
 "metadata": {
  "kernelspec": {
   "display_name": "Python 3",
   "language": "python",
   "name": "python3"
  },
  "language_info": {
   "codemirror_mode": {
    "name": "ipython",
    "version": 3
   },
   "file_extension": ".py",
   "mimetype": "text/x-python",
   "name": "python",
   "nbconvert_exporter": "python",
   "pygments_lexer": "ipython3",
   "version": "3.7.6"
  },
  "papermill": {
   "duration": 1961.346987,
   "end_time": "2020-08-17T07:51:45.279006",
   "environment_variables": {},
   "exception": null,
   "input_path": "__notebook__.ipynb",
   "output_path": "__notebook__.ipynb",
   "parameters": {},
   "start_time": "2020-08-17T07:19:03.932019",
   "version": "2.1.0"
  },
  "widgets": {
   "application/vnd.jupyter.widget-state+json": {
    "state": {
     "0468780796ff44358db0b37ee0fdb893": {
      "model_module": "@jupyter-widgets/controls",
      "model_module_version": "1.5.0",
      "model_name": "ProgressStyleModel",
      "state": {
       "_model_module": "@jupyter-widgets/controls",
       "_model_module_version": "1.5.0",
       "_model_name": "ProgressStyleModel",
       "_view_count": null,
       "_view_module": "@jupyter-widgets/base",
       "_view_module_version": "1.2.0",
       "_view_name": "StyleView",
       "bar_color": null,
       "description_width": "initial"
      }
     },
     "1574d7ee80a447a48249eef51a10f198": {
      "model_module": "@jupyter-widgets/controls",
      "model_module_version": "1.5.0",
      "model_name": "ProgressStyleModel",
      "state": {
       "_model_module": "@jupyter-widgets/controls",
       "_model_module_version": "1.5.0",
       "_model_name": "ProgressStyleModel",
       "_view_count": null,
       "_view_module": "@jupyter-widgets/base",
       "_view_module_version": "1.2.0",
       "_view_name": "StyleView",
       "bar_color": null,
       "description_width": "initial"
      }
     },
     "16a75572c50b472bb8ab67a6d0fb640b": {
      "model_module": "@jupyter-widgets/base",
      "model_module_version": "1.2.0",
      "model_name": "LayoutModel",
      "state": {
       "_model_module": "@jupyter-widgets/base",
       "_model_module_version": "1.2.0",
       "_model_name": "LayoutModel",
       "_view_count": null,
       "_view_module": "@jupyter-widgets/base",
       "_view_module_version": "1.2.0",
       "_view_name": "LayoutView",
       "align_content": null,
       "align_items": null,
       "align_self": null,
       "border": null,
       "bottom": null,
       "display": null,
       "flex": null,
       "flex_flow": null,
       "grid_area": null,
       "grid_auto_columns": null,
       "grid_auto_flow": null,
       "grid_auto_rows": null,
       "grid_column": null,
       "grid_gap": null,
       "grid_row": null,
       "grid_template_areas": null,
       "grid_template_columns": null,
       "grid_template_rows": null,
       "height": null,
       "justify_content": null,
       "justify_items": null,
       "left": null,
       "margin": null,
       "max_height": null,
       "max_width": null,
       "min_height": null,
       "min_width": null,
       "object_fit": null,
       "object_position": null,
       "order": null,
       "overflow": null,
       "overflow_x": null,
       "overflow_y": null,
       "padding": null,
       "right": null,
       "top": null,
       "visibility": null,
       "width": null
      }
     },
     "1f67352375b94beaa393f5375b703a12": {
      "model_module": "@jupyter-widgets/base",
      "model_module_version": "1.2.0",
      "model_name": "LayoutModel",
      "state": {
       "_model_module": "@jupyter-widgets/base",
       "_model_module_version": "1.2.0",
       "_model_name": "LayoutModel",
       "_view_count": null,
       "_view_module": "@jupyter-widgets/base",
       "_view_module_version": "1.2.0",
       "_view_name": "LayoutView",
       "align_content": null,
       "align_items": null,
       "align_self": null,
       "border": null,
       "bottom": null,
       "display": null,
       "flex": null,
       "flex_flow": null,
       "grid_area": null,
       "grid_auto_columns": null,
       "grid_auto_flow": null,
       "grid_auto_rows": null,
       "grid_column": null,
       "grid_gap": null,
       "grid_row": null,
       "grid_template_areas": null,
       "grid_template_columns": null,
       "grid_template_rows": null,
       "height": null,
       "justify_content": null,
       "justify_items": null,
       "left": null,
       "margin": null,
       "max_height": null,
       "max_width": null,
       "min_height": null,
       "min_width": null,
       "object_fit": null,
       "object_position": null,
       "order": null,
       "overflow": null,
       "overflow_x": null,
       "overflow_y": null,
       "padding": null,
       "right": null,
       "top": null,
       "visibility": null,
       "width": null
      }
     },
     "25746d15c5e642eb9d4d4f259c8088ee": {
      "model_module": "@jupyter-widgets/controls",
      "model_module_version": "1.5.0",
      "model_name": "HTMLModel",
      "state": {
       "_dom_classes": [],
       "_model_module": "@jupyter-widgets/controls",
       "_model_module_version": "1.5.0",
       "_model_name": "HTMLModel",
       "_view_count": null,
       "_view_module": "@jupyter-widgets/controls",
       "_view_module_version": "1.5.0",
       "_view_name": "HTMLView",
       "description": "",
       "description_tooltip": null,
       "layout": "IPY_MODEL_cee6ca34d851473b969204a24a9c76da",
       "placeholder": "​",
       "style": "IPY_MODEL_60ab30e2d6f84f558aee8cac08bb633d",
       "value": " 481/481 [00:00&lt;00:00, 811B/s]"
      }
     },
     "4086a46265c54146ac50ab70ede07656": {
      "model_module": "@jupyter-widgets/controls",
      "model_module_version": "1.5.0",
      "model_name": "ProgressStyleModel",
      "state": {
       "_model_module": "@jupyter-widgets/controls",
       "_model_module_version": "1.5.0",
       "_model_name": "ProgressStyleModel",
       "_view_count": null,
       "_view_module": "@jupyter-widgets/base",
       "_view_module_version": "1.2.0",
       "_view_name": "StyleView",
       "bar_color": null,
       "description_width": "initial"
      }
     },
     "454468c43e6c465296d441e17e4e370a": {
      "model_module": "@jupyter-widgets/controls",
      "model_module_version": "1.5.0",
      "model_name": "DescriptionStyleModel",
      "state": {
       "_model_module": "@jupyter-widgets/controls",
       "_model_module_version": "1.5.0",
       "_model_name": "DescriptionStyleModel",
       "_view_count": null,
       "_view_module": "@jupyter-widgets/base",
       "_view_module_version": "1.2.0",
       "_view_name": "StyleView",
       "description_width": ""
      }
     },
     "45a7a29e6d3f407bb22a4cfd7b9f8b65": {
      "model_module": "@jupyter-widgets/controls",
      "model_module_version": "1.5.0",
      "model_name": "HBoxModel",
      "state": {
       "_dom_classes": [],
       "_model_module": "@jupyter-widgets/controls",
       "_model_module_version": "1.5.0",
       "_model_name": "HBoxModel",
       "_view_count": null,
       "_view_module": "@jupyter-widgets/controls",
       "_view_module_version": "1.5.0",
       "_view_name": "HBoxView",
       "box_style": "",
       "children": [
        "IPY_MODEL_5ae6f370bd5540e4be9ca0d0d9f83c1e",
        "IPY_MODEL_cfad927617ce439cb89e3049a58a2912"
       ],
       "layout": "IPY_MODEL_ee38b12e431b42c6a76b839b365b33ba"
      }
     },
     "47155e4933d94c199eaa42ea48d484c0": {
      "model_module": "@jupyter-widgets/controls",
      "model_module_version": "1.5.0",
      "model_name": "DescriptionStyleModel",
      "state": {
       "_model_module": "@jupyter-widgets/controls",
       "_model_module_version": "1.5.0",
       "_model_name": "DescriptionStyleModel",
       "_view_count": null,
       "_view_module": "@jupyter-widgets/base",
       "_view_module_version": "1.2.0",
       "_view_name": "StyleView",
       "description_width": ""
      }
     },
     "4f47949f5fc04b37a1fd958402ba3ed2": {
      "model_module": "@jupyter-widgets/controls",
      "model_module_version": "1.5.0",
      "model_name": "HTMLModel",
      "state": {
       "_dom_classes": [],
       "_model_module": "@jupyter-widgets/controls",
       "_model_module_version": "1.5.0",
       "_model_name": "HTMLModel",
       "_view_count": null,
       "_view_module": "@jupyter-widgets/controls",
       "_view_module_version": "1.5.0",
       "_view_name": "HTMLView",
       "description": "",
       "description_tooltip": null,
       "layout": "IPY_MODEL_98847dbb295a406bbe8fc1251b7f6c84",
       "placeholder": "​",
       "style": "IPY_MODEL_47155e4933d94c199eaa42ea48d484c0",
       "value": " 456k/456k [00:00&lt;00:00, 822kB/s]"
      }
     },
     "5ae6f370bd5540e4be9ca0d0d9f83c1e": {
      "model_module": "@jupyter-widgets/controls",
      "model_module_version": "1.5.0",
      "model_name": "FloatProgressModel",
      "state": {
       "_dom_classes": [],
       "_model_module": "@jupyter-widgets/controls",
       "_model_module_version": "1.5.0",
       "_model_name": "FloatProgressModel",
       "_view_count": null,
       "_view_module": "@jupyter-widgets/controls",
       "_view_module_version": "1.5.0",
       "_view_name": "ProgressView",
       "bar_style": "success",
       "description": "Downloading: 100%",
       "description_tooltip": null,
       "layout": "IPY_MODEL_c845a3da0a09471686d2798df8efb885",
       "max": 657434796.0,
       "min": 0.0,
       "orientation": "horizontal",
       "style": "IPY_MODEL_8495aacedf534de1ad6baf62bfd43fd1",
       "value": 657434796.0
      }
     },
     "60ab30e2d6f84f558aee8cac08bb633d": {
      "model_module": "@jupyter-widgets/controls",
      "model_module_version": "1.5.0",
      "model_name": "DescriptionStyleModel",
      "state": {
       "_model_module": "@jupyter-widgets/controls",
       "_model_module_version": "1.5.0",
       "_model_name": "DescriptionStyleModel",
       "_view_count": null,
       "_view_module": "@jupyter-widgets/base",
       "_view_module_version": "1.2.0",
       "_view_name": "StyleView",
       "description_width": ""
      }
     },
     "8495aacedf534de1ad6baf62bfd43fd1": {
      "model_module": "@jupyter-widgets/controls",
      "model_module_version": "1.5.0",
      "model_name": "ProgressStyleModel",
      "state": {
       "_model_module": "@jupyter-widgets/controls",
       "_model_module_version": "1.5.0",
       "_model_name": "ProgressStyleModel",
       "_view_count": null,
       "_view_module": "@jupyter-widgets/base",
       "_view_module_version": "1.2.0",
       "_view_name": "StyleView",
       "bar_color": null,
       "description_width": "initial"
      }
     },
     "88f08decd19b41e9bbe2f7bd5a3c76b4": {
      "model_module": "@jupyter-widgets/base",
      "model_module_version": "1.2.0",
      "model_name": "LayoutModel",
      "state": {
       "_model_module": "@jupyter-widgets/base",
       "_model_module_version": "1.2.0",
       "_model_name": "LayoutModel",
       "_view_count": null,
       "_view_module": "@jupyter-widgets/base",
       "_view_module_version": "1.2.0",
       "_view_name": "LayoutView",
       "align_content": null,
       "align_items": null,
       "align_self": null,
       "border": null,
       "bottom": null,
       "display": null,
       "flex": null,
       "flex_flow": null,
       "grid_area": null,
       "grid_auto_columns": null,
       "grid_auto_flow": null,
       "grid_auto_rows": null,
       "grid_column": null,
       "grid_gap": null,
       "grid_row": null,
       "grid_template_areas": null,
       "grid_template_columns": null,
       "grid_template_rows": null,
       "height": null,
       "justify_content": null,
       "justify_items": null,
       "left": null,
       "margin": null,
       "max_height": null,
       "max_width": null,
       "min_height": null,
       "min_width": null,
       "object_fit": null,
       "object_position": null,
       "order": null,
       "overflow": null,
       "overflow_x": null,
       "overflow_y": null,
       "padding": null,
       "right": null,
       "top": null,
       "visibility": null,
       "width": null
      }
     },
     "8dc05527af96470ab96091711f37a7bb": {
      "model_module": "@jupyter-widgets/controls",
      "model_module_version": "1.5.0",
      "model_name": "FloatProgressModel",
      "state": {
       "_dom_classes": [],
       "_model_module": "@jupyter-widgets/controls",
       "_model_module_version": "1.5.0",
       "_model_name": "FloatProgressModel",
       "_view_count": null,
       "_view_module": "@jupyter-widgets/controls",
       "_view_module_version": "1.5.0",
       "_view_name": "ProgressView",
       "bar_style": "success",
       "description": "Downloading: 100%",
       "description_tooltip": null,
       "layout": "IPY_MODEL_d0e56af49864419090e416f7f09dea57",
       "max": 456318.0,
       "min": 0.0,
       "orientation": "horizontal",
       "style": "IPY_MODEL_0468780796ff44358db0b37ee0fdb893",
       "value": 456318.0
      }
     },
     "91a60d374b0e449490e719f910cab355": {
      "model_module": "@jupyter-widgets/controls",
      "model_module_version": "1.5.0",
      "model_name": "FloatProgressModel",
      "state": {
       "_dom_classes": [],
       "_model_module": "@jupyter-widgets/controls",
       "_model_module_version": "1.5.0",
       "_model_name": "FloatProgressModel",
       "_view_count": null,
       "_view_module": "@jupyter-widgets/controls",
       "_view_module_version": "1.5.0",
       "_view_name": "ProgressView",
       "bar_style": "success",
       "description": "Downloading: 100%",
       "description_tooltip": null,
       "layout": "IPY_MODEL_dc217af7f3b64b37af2186166f0df374",
       "max": 481.0,
       "min": 0.0,
       "orientation": "horizontal",
       "style": "IPY_MODEL_1574d7ee80a447a48249eef51a10f198",
       "value": 481.0
      }
     },
     "96b8be97996349809961ff5301479452": {
      "model_module": "@jupyter-widgets/controls",
      "model_module_version": "1.5.0",
      "model_name": "HBoxModel",
      "state": {
       "_dom_classes": [],
       "_model_module": "@jupyter-widgets/controls",
       "_model_module_version": "1.5.0",
       "_model_name": "HBoxModel",
       "_view_count": null,
       "_view_module": "@jupyter-widgets/controls",
       "_view_module_version": "1.5.0",
       "_view_name": "HBoxView",
       "box_style": "",
       "children": [
        "IPY_MODEL_91a60d374b0e449490e719f910cab355",
        "IPY_MODEL_25746d15c5e642eb9d4d4f259c8088ee"
       ],
       "layout": "IPY_MODEL_edc75d99c4f74cc5970f00f81111f90d"
      }
     },
     "98847dbb295a406bbe8fc1251b7f6c84": {
      "model_module": "@jupyter-widgets/base",
      "model_module_version": "1.2.0",
      "model_name": "LayoutModel",
      "state": {
       "_model_module": "@jupyter-widgets/base",
       "_model_module_version": "1.2.0",
       "_model_name": "LayoutModel",
       "_view_count": null,
       "_view_module": "@jupyter-widgets/base",
       "_view_module_version": "1.2.0",
       "_view_name": "LayoutView",
       "align_content": null,
       "align_items": null,
       "align_self": null,
       "border": null,
       "bottom": null,
       "display": null,
       "flex": null,
       "flex_flow": null,
       "grid_area": null,
       "grid_auto_columns": null,
       "grid_auto_flow": null,
       "grid_auto_rows": null,
       "grid_column": null,
       "grid_gap": null,
       "grid_row": null,
       "grid_template_areas": null,
       "grid_template_columns": null,
       "grid_template_rows": null,
       "height": null,
       "justify_content": null,
       "justify_items": null,
       "left": null,
       "margin": null,
       "max_height": null,
       "max_width": null,
       "min_height": null,
       "min_width": null,
       "object_fit": null,
       "object_position": null,
       "order": null,
       "overflow": null,
       "overflow_x": null,
       "overflow_y": null,
       "padding": null,
       "right": null,
       "top": null,
       "visibility": null,
       "width": null
      }
     },
     "9a0d09bf2520483ab8e1c2e356fd3da2": {
      "model_module": "@jupyter-widgets/base",
      "model_module_version": "1.2.0",
      "model_name": "LayoutModel",
      "state": {
       "_model_module": "@jupyter-widgets/base",
       "_model_module_version": "1.2.0",
       "_model_name": "LayoutModel",
       "_view_count": null,
       "_view_module": "@jupyter-widgets/base",
       "_view_module_version": "1.2.0",
       "_view_name": "LayoutView",
       "align_content": null,
       "align_items": null,
       "align_self": null,
       "border": null,
       "bottom": null,
       "display": null,
       "flex": null,
       "flex_flow": null,
       "grid_area": null,
       "grid_auto_columns": null,
       "grid_auto_flow": null,
       "grid_auto_rows": null,
       "grid_column": null,
       "grid_gap": null,
       "grid_row": null,
       "grid_template_areas": null,
       "grid_template_columns": null,
       "grid_template_rows": null,
       "height": null,
       "justify_content": null,
       "justify_items": null,
       "left": null,
       "margin": null,
       "max_height": null,
       "max_width": null,
       "min_height": null,
       "min_width": null,
       "object_fit": null,
       "object_position": null,
       "order": null,
       "overflow": null,
       "overflow_x": null,
       "overflow_y": null,
       "padding": null,
       "right": null,
       "top": null,
       "visibility": null,
       "width": null
      }
     },
     "9ec97efe029240cfa0272972d2c9089e": {
      "model_module": "@jupyter-widgets/controls",
      "model_module_version": "1.5.0",
      "model_name": "FloatProgressModel",
      "state": {
       "_dom_classes": [],
       "_model_module": "@jupyter-widgets/controls",
       "_model_module_version": "1.5.0",
       "_model_name": "FloatProgressModel",
       "_view_count": null,
       "_view_module": "@jupyter-widgets/controls",
       "_view_module_version": "1.5.0",
       "_view_name": "ProgressView",
       "bar_style": "success",
       "description": "Downloading: 100%",
       "description_tooltip": null,
       "layout": "IPY_MODEL_1f67352375b94beaa393f5375b703a12",
       "max": 898823.0,
       "min": 0.0,
       "orientation": "horizontal",
       "style": "IPY_MODEL_4086a46265c54146ac50ab70ede07656",
       "value": 898823.0
      }
     },
     "abe088dfb4ef4ccebe37652ece1ae580": {
      "model_module": "@jupyter-widgets/base",
      "model_module_version": "1.2.0",
      "model_name": "LayoutModel",
      "state": {
       "_model_module": "@jupyter-widgets/base",
       "_model_module_version": "1.2.0",
       "_model_name": "LayoutModel",
       "_view_count": null,
       "_view_module": "@jupyter-widgets/base",
       "_view_module_version": "1.2.0",
       "_view_name": "LayoutView",
       "align_content": null,
       "align_items": null,
       "align_self": null,
       "border": null,
       "bottom": null,
       "display": null,
       "flex": null,
       "flex_flow": null,
       "grid_area": null,
       "grid_auto_columns": null,
       "grid_auto_flow": null,
       "grid_auto_rows": null,
       "grid_column": null,
       "grid_gap": null,
       "grid_row": null,
       "grid_template_areas": null,
       "grid_template_columns": null,
       "grid_template_rows": null,
       "height": null,
       "justify_content": null,
       "justify_items": null,
       "left": null,
       "margin": null,
       "max_height": null,
       "max_width": null,
       "min_height": null,
       "min_width": null,
       "object_fit": null,
       "object_position": null,
       "order": null,
       "overflow": null,
       "overflow_x": null,
       "overflow_y": null,
       "padding": null,
       "right": null,
       "top": null,
       "visibility": null,
       "width": null
      }
     },
     "ac6c8088d8634f03a1ede44e9fc20a67": {
      "model_module": "@jupyter-widgets/controls",
      "model_module_version": "1.5.0",
      "model_name": "HBoxModel",
      "state": {
       "_dom_classes": [],
       "_model_module": "@jupyter-widgets/controls",
       "_model_module_version": "1.5.0",
       "_model_name": "HBoxModel",
       "_view_count": null,
       "_view_module": "@jupyter-widgets/controls",
       "_view_module_version": "1.5.0",
       "_view_name": "HBoxView",
       "box_style": "",
       "children": [
        "IPY_MODEL_8dc05527af96470ab96091711f37a7bb",
        "IPY_MODEL_4f47949f5fc04b37a1fd958402ba3ed2"
       ],
       "layout": "IPY_MODEL_abe088dfb4ef4ccebe37652ece1ae580"
      }
     },
     "c845a3da0a09471686d2798df8efb885": {
      "model_module": "@jupyter-widgets/base",
      "model_module_version": "1.2.0",
      "model_name": "LayoutModel",
      "state": {
       "_model_module": "@jupyter-widgets/base",
       "_model_module_version": "1.2.0",
       "_model_name": "LayoutModel",
       "_view_count": null,
       "_view_module": "@jupyter-widgets/base",
       "_view_module_version": "1.2.0",
       "_view_name": "LayoutView",
       "align_content": null,
       "align_items": null,
       "align_self": null,
       "border": null,
       "bottom": null,
       "display": null,
       "flex": null,
       "flex_flow": null,
       "grid_area": null,
       "grid_auto_columns": null,
       "grid_auto_flow": null,
       "grid_auto_rows": null,
       "grid_column": null,
       "grid_gap": null,
       "grid_row": null,
       "grid_template_areas": null,
       "grid_template_columns": null,
       "grid_template_rows": null,
       "height": null,
       "justify_content": null,
       "justify_items": null,
       "left": null,
       "margin": null,
       "max_height": null,
       "max_width": null,
       "min_height": null,
       "min_width": null,
       "object_fit": null,
       "object_position": null,
       "order": null,
       "overflow": null,
       "overflow_x": null,
       "overflow_y": null,
       "padding": null,
       "right": null,
       "top": null,
       "visibility": null,
       "width": null
      }
     },
     "c935a15d34404e888ee3f0c224a26d87": {
      "model_module": "@jupyter-widgets/controls",
      "model_module_version": "1.5.0",
      "model_name": "DescriptionStyleModel",
      "state": {
       "_model_module": "@jupyter-widgets/controls",
       "_model_module_version": "1.5.0",
       "_model_name": "DescriptionStyleModel",
       "_view_count": null,
       "_view_module": "@jupyter-widgets/base",
       "_view_module_version": "1.2.0",
       "_view_name": "StyleView",
       "description_width": ""
      }
     },
     "cc21e1d5b4ce4de5a3d2db33a70df9f4": {
      "model_module": "@jupyter-widgets/controls",
      "model_module_version": "1.5.0",
      "model_name": "HTMLModel",
      "state": {
       "_dom_classes": [],
       "_model_module": "@jupyter-widgets/controls",
       "_model_module_version": "1.5.0",
       "_model_name": "HTMLModel",
       "_view_count": null,
       "_view_module": "@jupyter-widgets/controls",
       "_view_module_version": "1.5.0",
       "_view_name": "HTMLView",
       "description": "",
       "description_tooltip": null,
       "layout": "IPY_MODEL_88f08decd19b41e9bbe2f7bd5a3c76b4",
       "placeholder": "​",
       "style": "IPY_MODEL_454468c43e6c465296d441e17e4e370a",
       "value": " 899k/899k [00:01&lt;00:00, 795kB/s]"
      }
     },
     "cee6ca34d851473b969204a24a9c76da": {
      "model_module": "@jupyter-widgets/base",
      "model_module_version": "1.2.0",
      "model_name": "LayoutModel",
      "state": {
       "_model_module": "@jupyter-widgets/base",
       "_model_module_version": "1.2.0",
       "_model_name": "LayoutModel",
       "_view_count": null,
       "_view_module": "@jupyter-widgets/base",
       "_view_module_version": "1.2.0",
       "_view_name": "LayoutView",
       "align_content": null,
       "align_items": null,
       "align_self": null,
       "border": null,
       "bottom": null,
       "display": null,
       "flex": null,
       "flex_flow": null,
       "grid_area": null,
       "grid_auto_columns": null,
       "grid_auto_flow": null,
       "grid_auto_rows": null,
       "grid_column": null,
       "grid_gap": null,
       "grid_row": null,
       "grid_template_areas": null,
       "grid_template_columns": null,
       "grid_template_rows": null,
       "height": null,
       "justify_content": null,
       "justify_items": null,
       "left": null,
       "margin": null,
       "max_height": null,
       "max_width": null,
       "min_height": null,
       "min_width": null,
       "object_fit": null,
       "object_position": null,
       "order": null,
       "overflow": null,
       "overflow_x": null,
       "overflow_y": null,
       "padding": null,
       "right": null,
       "top": null,
       "visibility": null,
       "width": null
      }
     },
     "cfad927617ce439cb89e3049a58a2912": {
      "model_module": "@jupyter-widgets/controls",
      "model_module_version": "1.5.0",
      "model_name": "HTMLModel",
      "state": {
       "_dom_classes": [],
       "_model_module": "@jupyter-widgets/controls",
       "_model_module_version": "1.5.0",
       "_model_name": "HTMLModel",
       "_view_count": null,
       "_view_module": "@jupyter-widgets/controls",
       "_view_module_version": "1.5.0",
       "_view_name": "HTMLView",
       "description": "",
       "description_tooltip": null,
       "layout": "IPY_MODEL_16a75572c50b472bb8ab67a6d0fb640b",
       "placeholder": "​",
       "style": "IPY_MODEL_c935a15d34404e888ee3f0c224a26d87",
       "value": " 657M/657M [00:34&lt;00:00, 19.2MB/s]"
      }
     },
     "d0e56af49864419090e416f7f09dea57": {
      "model_module": "@jupyter-widgets/base",
      "model_module_version": "1.2.0",
      "model_name": "LayoutModel",
      "state": {
       "_model_module": "@jupyter-widgets/base",
       "_model_module_version": "1.2.0",
       "_model_name": "LayoutModel",
       "_view_count": null,
       "_view_module": "@jupyter-widgets/base",
       "_view_module_version": "1.2.0",
       "_view_name": "LayoutView",
       "align_content": null,
       "align_items": null,
       "align_self": null,
       "border": null,
       "bottom": null,
       "display": null,
       "flex": null,
       "flex_flow": null,
       "grid_area": null,
       "grid_auto_columns": null,
       "grid_auto_flow": null,
       "grid_auto_rows": null,
       "grid_column": null,
       "grid_gap": null,
       "grid_row": null,
       "grid_template_areas": null,
       "grid_template_columns": null,
       "grid_template_rows": null,
       "height": null,
       "justify_content": null,
       "justify_items": null,
       "left": null,
       "margin": null,
       "max_height": null,
       "max_width": null,
       "min_height": null,
       "min_width": null,
       "object_fit": null,
       "object_position": null,
       "order": null,
       "overflow": null,
       "overflow_x": null,
       "overflow_y": null,
       "padding": null,
       "right": null,
       "top": null,
       "visibility": null,
       "width": null
      }
     },
     "dc217af7f3b64b37af2186166f0df374": {
      "model_module": "@jupyter-widgets/base",
      "model_module_version": "1.2.0",
      "model_name": "LayoutModel",
      "state": {
       "_model_module": "@jupyter-widgets/base",
       "_model_module_version": "1.2.0",
       "_model_name": "LayoutModel",
       "_view_count": null,
       "_view_module": "@jupyter-widgets/base",
       "_view_module_version": "1.2.0",
       "_view_name": "LayoutView",
       "align_content": null,
       "align_items": null,
       "align_self": null,
       "border": null,
       "bottom": null,
       "display": null,
       "flex": null,
       "flex_flow": null,
       "grid_area": null,
       "grid_auto_columns": null,
       "grid_auto_flow": null,
       "grid_auto_rows": null,
       "grid_column": null,
       "grid_gap": null,
       "grid_row": null,
       "grid_template_areas": null,
       "grid_template_columns": null,
       "grid_template_rows": null,
       "height": null,
       "justify_content": null,
       "justify_items": null,
       "left": null,
       "margin": null,
       "max_height": null,
       "max_width": null,
       "min_height": null,
       "min_width": null,
       "object_fit": null,
       "object_position": null,
       "order": null,
       "overflow": null,
       "overflow_x": null,
       "overflow_y": null,
       "padding": null,
       "right": null,
       "top": null,
       "visibility": null,
       "width": null
      }
     },
     "e70f60a27b38495b83790c8530a6747c": {
      "model_module": "@jupyter-widgets/controls",
      "model_module_version": "1.5.0",
      "model_name": "HBoxModel",
      "state": {
       "_dom_classes": [],
       "_model_module": "@jupyter-widgets/controls",
       "_model_module_version": "1.5.0",
       "_model_name": "HBoxModel",
       "_view_count": null,
       "_view_module": "@jupyter-widgets/controls",
       "_view_module_version": "1.5.0",
       "_view_name": "HBoxView",
       "box_style": "",
       "children": [
        "IPY_MODEL_9ec97efe029240cfa0272972d2c9089e",
        "IPY_MODEL_cc21e1d5b4ce4de5a3d2db33a70df9f4"
       ],
       "layout": "IPY_MODEL_9a0d09bf2520483ab8e1c2e356fd3da2"
      }
     },
     "edc75d99c4f74cc5970f00f81111f90d": {
      "model_module": "@jupyter-widgets/base",
      "model_module_version": "1.2.0",
      "model_name": "LayoutModel",
      "state": {
       "_model_module": "@jupyter-widgets/base",
       "_model_module_version": "1.2.0",
       "_model_name": "LayoutModel",
       "_view_count": null,
       "_view_module": "@jupyter-widgets/base",
       "_view_module_version": "1.2.0",
       "_view_name": "LayoutView",
       "align_content": null,
       "align_items": null,
       "align_self": null,
       "border": null,
       "bottom": null,
       "display": null,
       "flex": null,
       "flex_flow": null,
       "grid_area": null,
       "grid_auto_columns": null,
       "grid_auto_flow": null,
       "grid_auto_rows": null,
       "grid_column": null,
       "grid_gap": null,
       "grid_row": null,
       "grid_template_areas": null,
       "grid_template_columns": null,
       "grid_template_rows": null,
       "height": null,
       "justify_content": null,
       "justify_items": null,
       "left": null,
       "margin": null,
       "max_height": null,
       "max_width": null,
       "min_height": null,
       "min_width": null,
       "object_fit": null,
       "object_position": null,
       "order": null,
       "overflow": null,
       "overflow_x": null,
       "overflow_y": null,
       "padding": null,
       "right": null,
       "top": null,
       "visibility": null,
       "width": null
      }
     },
     "ee38b12e431b42c6a76b839b365b33ba": {
      "model_module": "@jupyter-widgets/base",
      "model_module_version": "1.2.0",
      "model_name": "LayoutModel",
      "state": {
       "_model_module": "@jupyter-widgets/base",
       "_model_module_version": "1.2.0",
       "_model_name": "LayoutModel",
       "_view_count": null,
       "_view_module": "@jupyter-widgets/base",
       "_view_module_version": "1.2.0",
       "_view_name": "LayoutView",
       "align_content": null,
       "align_items": null,
       "align_self": null,
       "border": null,
       "bottom": null,
       "display": null,
       "flex": null,
       "flex_flow": null,
       "grid_area": null,
       "grid_auto_columns": null,
       "grid_auto_flow": null,
       "grid_auto_rows": null,
       "grid_column": null,
       "grid_gap": null,
       "grid_row": null,
       "grid_template_areas": null,
       "grid_template_columns": null,
       "grid_template_rows": null,
       "height": null,
       "justify_content": null,
       "justify_items": null,
       "left": null,
       "margin": null,
       "max_height": null,
       "max_width": null,
       "min_height": null,
       "min_width": null,
       "object_fit": null,
       "object_position": null,
       "order": null,
       "overflow": null,
       "overflow_x": null,
       "overflow_y": null,
       "padding": null,
       "right": null,
       "top": null,
       "visibility": null,
       "width": null
      }
     }
    },
    "version_major": 2,
    "version_minor": 0
   }
  }
 },
 "nbformat": 4,
 "nbformat_minor": 4
}
